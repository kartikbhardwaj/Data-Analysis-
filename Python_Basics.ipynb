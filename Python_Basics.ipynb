{
 "cells": [
  {
   "cell_type": "markdown",
   "metadata": {
    "colab_type": "text",
    "id": "Ndye4ESNyxjA"
   },
   "source": [
    "# Python Basics"
   ]
  },
  {
   "cell_type": "markdown",
   "metadata": {
    "colab_type": "text",
    "id": "TljrFXOWy9Lw"
   },
   "source": [
    "1.Write a function that inputs a number and prints the multiplication table of that number"
   ]
  },
  {
   "cell_type": "code",
   "execution_count": 1,
   "metadata": {
    "colab": {
     "base_uri": "https://localhost:8080/",
     "height": 219
    },
    "colab_type": "code",
    "id": "8kVscLOkypaD",
    "outputId": "14c75c71-3c76-4478-e18c-3c8f93873a2d"
   },
   "outputs": [
    {
     "name": "stdout",
     "output_type": "stream",
     "text": [
      "3\n",
      "input =  3\n",
      "3\n",
      "6\n",
      "9\n",
      "12\n",
      "15\n",
      "18\n",
      "21\n",
      "24\n",
      "27\n",
      "30\n"
     ]
    }
   ],
   "source": [
    "def table(num =1):\n",
    "  [print(int(i)*int(num)) for i in range (1,11)]\n",
    "\n",
    "num = input()\n",
    "print(\"input = \", num)\n",
    "table(num)"
   ]
  },
  {
   "cell_type": "markdown",
   "metadata": {
    "colab_type": "text",
    "id": "JhUt47Piz-T6"
   },
   "source": [
    "2.Write a program to print twin primes  less than 1000. If two consecutive odd numbers are both prime then they are known as twin primes"
   ]
  },
  {
   "cell_type": "code",
   "execution_count": 2,
   "metadata": {
    "colab": {
     "base_uri": "https://localhost:8080/",
     "height": 678
    },
    "colab_type": "code",
    "id": "b4ywpUoFzk5s",
    "outputId": "364e7548-4dd4-4f8f-89b0-48d7c8b9b86d"
   },
   "outputs": [
    {
     "name": "stdout",
     "output_type": "stream",
     "text": [
      "Twin Primes less than 1000 are\n",
      "5 3\n",
      "7 5\n",
      "13 11\n",
      "19 17\n",
      "31 29\n",
      "43 41\n",
      "61 59\n",
      "73 71\n",
      "103 101\n",
      "109 107\n",
      "139 137\n",
      "151 149\n",
      "181 179\n",
      "193 191\n",
      "199 197\n",
      "229 227\n",
      "241 239\n",
      "271 269\n",
      "283 281\n",
      "313 311\n",
      "349 347\n",
      "421 419\n",
      "433 431\n",
      "463 461\n",
      "523 521\n",
      "571 569\n",
      "601 599\n",
      "619 617\n",
      "643 641\n",
      "661 659\n",
      "811 809\n",
      "823 821\n",
      "829 827\n",
      "859 857\n",
      "883 881\n"
     ]
    }
   ],
   "source": [
    "print(\"Twin Primes less than 1000 are\")\n",
    "def prime(num):\n",
    "  for i in range(2,int(num/2) +1):\n",
    "    if num%i == 0:\n",
    "      return False\n",
    "  return True\n",
    "pr = [2]  \n",
    "for i in range(3,1001,2):\n",
    "  if prime(i):\n",
    "    pr.append(i)\n",
    "    if pr[-1] - pr[-2] == 2:\n",
    "      print(pr[-1], pr[-2])"
   ]
  },
  {
   "cell_type": "markdown",
   "metadata": {
    "colab_type": "text",
    "id": "yD-cEow24aVv"
   },
   "source": [
    "3.Write a program to find out the prime factors of a number. Example: prime factors of 56 - 2, 2, 2, 7"
   ]
  },
  {
   "cell_type": "code",
   "execution_count": 3,
   "metadata": {
    "colab": {
     "base_uri": "https://localhost:8080/",
     "height": 109
    },
    "colab_type": "code",
    "id": "R15RK-4J4Yx1",
    "outputId": "8cd0e5db-177b-4229-e20a-5196fd085a1c"
   },
   "outputs": [
    {
     "name": "stdout",
     "output_type": "stream",
     "text": [
      "The Prime Factors of Number 56  are\n",
      "2\n",
      "2\n",
      "2\n",
      "7\n"
     ]
    }
   ],
   "source": [
    "num = 56\n",
    "print(\"The Prime Factors of Number\",num,\" are\")\n",
    "def prime(num):\n",
    "  for i in range(2,int(num/2) +1):\n",
    "    if num%i == 0:\n",
    "      return False\n",
    "  return True\n",
    "\n",
    "pr = []  \n",
    "for i in range(2,int(num) +1):\n",
    "  if prime(i):\n",
    "    pr.append(i)\n",
    "\n",
    "for x in pr:\n",
    "    while int(num)%x == 0 :\n",
    "      print(x)\n",
    "      num = num/x    "
   ]
  },
  {
   "cell_type": "markdown",
   "metadata": {
    "colab_type": "text",
    "id": "irQqq-LSCFTt"
   },
   "source": [
    "4.Write a program to implement these formulae of permutations and combinations. Number of permutations of n objects taken r at a time: p(n, r) = n! / (n-r)!.  Number of combinations of n objects taken r at a time is: c(n, r) = n! / (r!*(n-r)!) = p(n,r) / r!"
   ]
  },
  {
   "cell_type": "code",
   "execution_count": 4,
   "metadata": {
    "colab": {
     "base_uri": "https://localhost:8080/",
     "height": 54
    },
    "colab_type": "code",
    "id": "JDXm3zzmznHM",
    "outputId": "3894c8b4-7cb6-43c5-ff6c-24e1e226f3ce"
   },
   "outputs": [
    {
     "name": "stdout",
     "output_type": "stream",
     "text": [
      "42\n",
      "21\n"
     ]
    }
   ],
   "source": [
    "def fact(nm):\n",
    "  f = 1\n",
    "  while (nm != 1):\n",
    "    f = f*nm\n",
    "    nm -=1\n",
    "  return f\n",
    "\n",
    "def premutation(n,r):\n",
    "  return fact(n)/fact(n-r)\n",
    "\n",
    "def combination(n,r):\n",
    "  return  fact(n)/(fact(n-r)*fact(r))\n",
    "\n",
    "print(int(premutation(7,2)))\n",
    "print(int(combination(7,2)))"
   ]
  },
  {
   "cell_type": "markdown",
   "metadata": {
    "colab_type": "text",
    "id": "wpDkHrJgD2A2"
   },
   "source": [
    "5.Write a function that converts a decimal number to binary number"
   ]
  },
  {
   "cell_type": "code",
   "execution_count": 5,
   "metadata": {
    "colab": {
     "base_uri": "https://localhost:8080/",
     "height": 35
    },
    "colab_type": "code",
    "id": "meAsdjZX3qJg",
    "outputId": "dbbf286d-36be-4946-e80f-7959c3668f72"
   },
   "outputs": [
    {
     "name": "stdout",
     "output_type": "stream",
     "text": [
      "[1, 1]\n"
     ]
    }
   ],
   "source": [
    "num = 3\n",
    "def conversion(num):\n",
    "  ls = []\n",
    "  while num > 0:\n",
    "      ls.append(num%2)\n",
    "      num = num // 2\n",
    "  print(ls)      \n",
    "conversion(num)      "
   ]
  },
  {
   "cell_type": "markdown",
   "metadata": {
    "colab_type": "text",
    "id": "BERWfGI4Ke7V"
   },
   "source": [
    "6.Write a function cubesum() that accepts an integer and returns the sum of the cubes of individual digits of that number. Use this function to make functions PrintArmstrong() and isArmstrong() to print Armstrong numbers and to find whether is an Armstrong number."
   ]
  },
  {
   "cell_type": "code",
   "execution_count": 6,
   "metadata": {
    "colab": {
     "base_uri": "https://localhost:8080/",
     "height": 72
    },
    "colab_type": "code",
    "id": "kkMWz_vOG0Po",
    "outputId": "2e2521ef-4bcd-4438-922a-033f50d99977"
   },
   "outputs": [
    {
     "name": "stdout",
     "output_type": "stream",
     "text": [
      "153\n",
      "True\n",
      "153\n"
     ]
    }
   ],
   "source": [
    "def cubesum(n):\n",
    "  csum = 0\n",
    "  while(n//10 !=0):\n",
    "    csum += (n%10)**3\n",
    "    n = n//10\n",
    "  csum += (n%10)**3\n",
    "  return csum\n",
    "\n",
    "def isArmstrong(n1):\n",
    "  return (n1 == cubesum(n1))\n",
    "\n",
    "def PrintArmstrong(n1):\n",
    "    if n1 == cubesum(n1):\n",
    "      print(n1)\n",
    "\n",
    "print(cubesum(153))\n",
    "print(isArmstrong(153))\n",
    "PrintArmstrong(153)"
   ]
  },
  {
   "cell_type": "markdown",
   "metadata": {
    "colab_type": "text",
    "id": "_oJH1jV1OP1w"
   },
   "source": [
    "7.Write a function prodDigits() that inputs a number and returns the product of digits of that number."
   ]
  },
  {
   "cell_type": "code",
   "execution_count": 7,
   "metadata": {
    "colab": {
     "base_uri": "https://localhost:8080/",
     "height": 35
    },
    "colab_type": "code",
    "id": "6ZJO3SWlLNNA",
    "outputId": "c31654a1-b7a6-4fcf-ce1e-60585b0addbd"
   },
   "outputs": [
    {
     "name": "stdout",
     "output_type": "stream",
     "text": [
      "12\n"
     ]
    }
   ],
   "source": [
    "def ProdDigits(n):\n",
    "  prod = 1\n",
    "  while(n//10 !=0):\n",
    "    prod *= (n%10)\n",
    "    n = n//10\n",
    "  prod *= (n%10)\n",
    "  return prod\n",
    "\n",
    "print(ProdDigits(143))"
   ]
  },
  {
   "cell_type": "markdown",
   "metadata": {
    "colab_type": "text",
    "id": "9NDoQAaKP-Aa"
   },
   "source": [
    "8.If all digits of a number n are multiplied by each other repeating with the product, the one digit number obtained at last is called the multiplicative digital root of n. The number of times digits need to be multiplied to reach one digit is called the multiplicative persistance of n. Example: 86 -> 48 -> 32 -> 6 (MDR 6, MPersistence 3)               341 -> 12->2           (MDR 2, MPersistence 2)Using the function prodDigits() of previous exercise write functions MDR() and MPersistence() that input a number and return its multiplicative digital root and multiplicative persistence respectively"
   ]
  },
  {
   "cell_type": "code",
   "execution_count": 8,
   "metadata": {
    "colab": {
     "base_uri": "https://localhost:8080/",
     "height": 54
    },
    "colab_type": "code",
    "id": "saQaBtGPP7sU",
    "outputId": "ff02f24d-ca43-416b-d12b-5db7da8deb58"
   },
   "outputs": [
    {
     "name": "stdout",
     "output_type": "stream",
     "text": [
      "6\n",
      "3\n"
     ]
    }
   ],
   "source": [
    "def MDR(n):\n",
    "  while(n//10 !=0):\n",
    "    n = ProdDigits(n)\n",
    "  return n\n",
    "\n",
    "def MPersistence(n):\n",
    "  count = 0\n",
    "  while(n//10 !=0):\n",
    "    n = ProdDigits(n)\n",
    "    count +=1\n",
    "  return count\n",
    "\n",
    "print(MDR(86))\n",
    "print(MPersistence(86)) "
   ]
  },
  {
   "cell_type": "markdown",
   "metadata": {
    "colab_type": "text",
    "id": "u9uq4J5tSLKF"
   },
   "source": [
    "9.Write a function sumPdivisors() that finds the sum of proper divisors of a number. Proper divisors of a number are those numbers by which the number is divisible, except the number itself.  For example proper divisors of 36 are 1, 2, 3, 4, 6, 9, 18"
   ]
  },
  {
   "cell_type": "code",
   "execution_count": 9,
   "metadata": {
    "colab": {
     "base_uri": "https://localhost:8080/",
     "height": 35
    },
    "colab_type": "code",
    "id": "MXcdDApzR7Dz",
    "outputId": "b59b039c-f28a-40b6-b01e-938c7b0cfa82"
   },
   "outputs": [
    {
     "data": {
      "text/plain": [
       "55"
      ]
     },
     "execution_count": 9,
     "metadata": {},
     "output_type": "execute_result"
    }
   ],
   "source": [
    "def sumPdivisors(n):\n",
    "  sm = 0\n",
    "  for i in range(1,n):\n",
    "    if n%i == 0:\n",
    "      sm += i\n",
    "  return sm    \n",
    "sumPdivisors(36)      "
   ]
  },
  {
   "cell_type": "markdown",
   "metadata": {
    "colab_type": "text",
    "id": "lyZacozVULq5"
   },
   "source": [
    "10.A number is called perfect if the sum of proper divisors of that number is equal to the number. For example 28 is perfect number, since 1+2+4+7+14=28. Write a program to print all the perfect numbers in a given range"
   ]
  },
  {
   "cell_type": "code",
   "execution_count": 10,
   "metadata": {
    "colab": {
     "base_uri": "https://localhost:8080/",
     "height": 54
    },
    "colab_type": "code",
    "id": "kZ9UGKdETxYm",
    "outputId": "67a261ec-7e9a-4282-dcfd-bad33a364d26"
   },
   "outputs": [
    {
     "name": "stdout",
     "output_type": "stream",
     "text": [
      "6\n",
      "28\n"
     ]
    }
   ],
   "source": [
    "start = 2\n",
    "end = 30\n",
    "def pnum(n):\n",
    "  if sumPdivisors(n) == n:\n",
    "    return n\n",
    "  else:\n",
    "    return -1\n",
    "\n",
    "for i in range (start,end+1):\n",
    "    if pnum(i) != -1:\n",
    "      print(pnum(i))"
   ]
  },
  {
   "cell_type": "markdown",
   "metadata": {
    "colab_type": "text",
    "id": "dmJXrl__dWLd"
   },
   "source": [
    "11.Two different numbers are called amicable numbers if the sum of the proper divisors of each is equal to the other number. For example 220 and 284 are amicable numbers.\n",
    "Sum of proper divisors of 220 = 1+2+4+5+10+11+20+22+44+55+110 = 284Sum of proper divisors of 284 = 1+2+4+71+142 = 220Write a function to print pairs of amicable numbers in a range"
   ]
  },
  {
   "cell_type": "code",
   "execution_count": 11,
   "metadata": {
    "colab": {
     "base_uri": "https://localhost:8080/",
     "height": 439
    },
    "colab_type": "code",
    "id": "FPIEAEaqWERJ",
    "outputId": "2a8b380d-1261-4123-fbe1-9c9808954101"
   },
   "outputs": [
    {
     "name": "stdout",
     "output_type": "stream",
     "text": [
      "Amicable number between 200 and 300 are\n",
      "200 265\n",
      "204 300\n",
      "208 226\n",
      "220 284\n",
      "222 234\n",
      "224 280\n",
      "230 202\n",
      "232 218\n",
      "246 258\n",
      "248 232\n",
      "250 218\n",
      "256 255\n",
      "258 270\n",
      "266 214\n",
      "268 208\n",
      "272 286\n",
      "282 294\n",
      "284 220\n",
      "286 218\n",
      "290 250\n",
      "292 226\n",
      "296 274\n"
     ]
    }
   ],
   "source": [
    "start = 200\n",
    "end = 300\n",
    "def pdsum(n):\n",
    "  for x in n:\n",
    "    if sumPdivisors(x) in n:\n",
    "      print (x, sumPdivisors(x))\n",
    "print(\"Amicable number between\",start,\"and\", end, \"are\")\n",
    "pdsum(range(start,end+1))\n"
   ]
  },
  {
   "cell_type": "markdown",
   "metadata": {
    "colab_type": "text",
    "id": "mXnACOqJgxph"
   },
   "source": [
    "12.Write a program which can filter odd numbers in a list by using filter function"
   ]
  },
  {
   "cell_type": "code",
   "execution_count": 12,
   "metadata": {
    "colab": {
     "base_uri": "https://localhost:8080/",
     "height": 35
    },
    "colab_type": "code",
    "id": "N4k8h5TGf17K",
    "outputId": "68feb57d-8d65-4e90-dee4-90aff0118aab"
   },
   "outputs": [
    {
     "name": "stdout",
     "output_type": "stream",
     "text": [
      "[1, 3, 5, 7, 9, 11, 13, 15, 17, 19, 21, 23, 25, 27, 29, 31, 33, 35, 37, 39]\n"
     ]
    }
   ],
   "source": [
    "start = 0\n",
    "end  = 40\n",
    "tst = range(start,end+1)\n",
    "op = list(filter(lambda x:x%2==1, tst))\n",
    "print(op)"
   ]
  },
  {
   "cell_type": "markdown",
   "metadata": {
    "colab_type": "text",
    "id": "Gsb7aIhaiDoA"
   },
   "source": [
    "13.Write a program which can map() to make a list whose elements are cube of elements in a given list"
   ]
  },
  {
   "cell_type": "code",
   "execution_count": 13,
   "metadata": {
    "colab": {
     "base_uri": "https://localhost:8080/",
     "height": 35
    },
    "colab_type": "code",
    "id": "337Mua57hea9",
    "outputId": "841c88d2-4b77-461c-832c-c36099ea7aea"
   },
   "outputs": [
    {
     "name": "stdout",
     "output_type": "stream",
     "text": [
      "[0, 1, 8, 27, 64]\n"
     ]
    }
   ],
   "source": [
    "start = 0\n",
    "end  = 4\n",
    "tst = range(start,end+1)\n",
    "res = list(map(lambda x:x**3,tst))\n",
    "print(res)"
   ]
  },
  {
   "cell_type": "markdown",
   "metadata": {
    "colab_type": "text",
    "id": "OJPY5hoVjwB9"
   },
   "source": [
    "14.Write a program which can map() and filter() to make a list whose elements are cube of even number in a given list"
   ]
  },
  {
   "cell_type": "code",
   "execution_count": 14,
   "metadata": {
    "colab": {
     "base_uri": "https://localhost:8080/",
     "height": 35
    },
    "colab_type": "code",
    "id": "yR0ccACfjMlM",
    "outputId": "31615001-5b5b-44e1-eff4-d976cf7332a4"
   },
   "outputs": [
    {
     "name": "stdout",
     "output_type": "stream",
     "text": [
      "[0, 8, 64]\n"
     ]
    }
   ],
   "source": [
    "start = 0\n",
    "end  = 4\n",
    "tst = range(start,end+1)\n",
    "res = list(map(lambda x:x**3 ,list(filter(lambda x:x%2==0,tst))))\n",
    "print(res)"
   ]
  }
 ],
 "metadata": {
  "colab": {
   "collapsed_sections": [],
   "name": "Applied AI Assignment2",
   "provenance": []
  },
  "kernelspec": {
   "display_name": "Python 3",
   "language": "python",
   "name": "python3"
  },
  "language_info": {
   "codemirror_mode": {
    "name": "ipython",
    "version": 3
   },
   "file_extension": ".py",
   "mimetype": "text/x-python",
   "name": "python",
   "nbconvert_exporter": "python",
   "pygments_lexer": "ipython3",
   "version": "3.7.4"
  }
 },
 "nbformat": 4,
 "nbformat_minor": 1
}
